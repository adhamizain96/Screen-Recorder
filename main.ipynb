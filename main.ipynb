{
 "cells": [
  {
   "cell_type": "code",
   "execution_count": 1,
   "id": "9096170a",
   "metadata": {},
   "outputs": [],
   "source": [
    "#note - PyAutoGUI lets your Python scripts control the mouse and keyboard to automate interactions with other application\n",
    "#note - https://pyautogui.readthedocs.io/en/latest/\n",
    "#note - pip install pyautogui\n",
    "import pyautogui\n",
    "#note - https://pypi.org/project/opencv-python/   \n",
    "#note - pip install opencv-python\n",
    "import cv2\n",
    "#note - https://numpy.org/doc/stable/\n",
    "import numpy    \n",
    "\n",
    "#---recording parameters---\n",
    "#note - cv2.VideoWriter() - https://docs.opencv.org/3.4/dd/d9e/classcv_1_1VideoWriter.html#ac3478f6257454209fa99249cc03a5c59\n",
    "#note - cv2.VideoWriter(filename, codec, fps, resolution)\n",
    "filename  = 'Screen_Recording.mp4'    \n",
    "#note - codec - https://www.fourcc.org/codecs.php\n",
    "codec = cv2.VideoWriter_fourcc('m', 'p', '4', 'v')   \n",
    "#note - resolution & fps - current gen Mackbook Air specifications\n",
    "resolution = (2560, 1600)\n",
    "fps = 120.0 \n",
    "\n",
    "recording = cv2.VideoWriter(filename, codec, fps, resolution)\n",
    "\n",
    "while True:\n",
    "    #note - screenshot functions - https://pyautogui.readthedocs.io/en/latest/quickstart.html#screenshot-functions\n",
    "    video_frame = numpy.array(pyautogui.screenshot())\n",
    "    recording.write(video_frame)\n",
    "    cv2.imshow('Screen_Recording', video_frame)\n",
    "    #note - how do we stop the screen recording???\n",
    "    #note - https://stackoverflow.com/questions/35372700/whats-0xff-for-in-cv2-waitkey1\n",
    "    if cv2.waitKey(1) == ord('s'):\n",
    "        break\n",
    "    \n",
    "recording.release()\n",
    "cv2.destroyAllWindows()      "
   ]
  },
  {
   "cell_type": "code",
   "execution_count": null,
   "id": "fedb9d83",
   "metadata": {},
   "outputs": [],
   "source": []
  }
 ],
 "metadata": {
  "kernelspec": {
   "display_name": "Python 3",
   "language": "python",
   "name": "python3"
  },
  "language_info": {
   "codemirror_mode": {
    "name": "ipython",
    "version": 3
   },
   "file_extension": ".py",
   "mimetype": "text/x-python",
   "name": "python",
   "nbconvert_exporter": "python",
   "pygments_lexer": "ipython3",
   "version": "3.8.8"
  }
 },
 "nbformat": 4,
 "nbformat_minor": 5
}
